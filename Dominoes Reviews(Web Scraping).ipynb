{
 "cells": [
  {
   "cell_type": "code",
   "execution_count": 1,
   "id": "7d6e726d",
   "metadata": {},
   "outputs": [
    {
     "name": "stdout",
     "output_type": "stream",
     "text": [
      "Requirement already satisfied: pandas in c:\\users\\lenovo\\envs\\lib\\site-packages (1.1.2)\n",
      "Requirement already satisfied: requests in c:\\users\\lenovo\\envs\\lib\\site-packages (2.28.1)\n",
      "Requirement already satisfied: BeautifulSoup4 in c:\\users\\lenovo\\envs\\lib\\site-packages (4.11.1)\n",
      "Requirement already satisfied: numpy>=1.15.4 in c:\\users\\lenovo\\envs\\lib\\site-packages (from pandas) (1.18.1)\n",
      "Requirement already satisfied: pytz>=2017.2 in c:\\users\\lenovo\\envs\\lib\\site-packages (from pandas) (2022.7)\n",
      "Requirement already satisfied: python-dateutil>=2.7.3 in c:\\users\\lenovo\\envs\\lib\\site-packages (from pandas) (2.8.2)\n",
      "Requirement already satisfied: certifi>=2017.4.17 in c:\\users\\lenovo\\envs\\lib\\site-packages (from requests) (2022.12.7)\n",
      "Requirement already satisfied: idna<4,>=2.5 in c:\\users\\lenovo\\envs\\lib\\site-packages (from requests) (3.4)\n",
      "Requirement already satisfied: charset-normalizer<3,>=2 in c:\\users\\lenovo\\envs\\lib\\site-packages (from requests) (2.0.4)\n",
      "Requirement already satisfied: urllib3<1.27,>=1.21.1 in c:\\users\\lenovo\\envs\\lib\\site-packages (from requests) (1.26.14)\n",
      "Requirement already satisfied: soupsieve>1.2 in c:\\users\\lenovo\\envs\\lib\\site-packages (from BeautifulSoup4) (2.3.2.post1)\n",
      "Requirement already satisfied: six>=1.5 in c:\\users\\lenovo\\envs\\lib\\site-packages (from python-dateutil>=2.7.3->pandas) (1.16.0)\n",
      "Note: you may need to restart the kernel to use updated packages.\n"
     ]
    }
   ],
   "source": [
    "pip install pandas requests BeautifulSoup4"
   ]
  },
  {
   "cell_type": "code",
   "execution_count": 50,
   "id": "d34d0e6e",
   "metadata": {},
   "outputs": [],
   "source": [
    "import pandas as pd\n",
    "import requests\n",
    "from bs4 import BeautifulSoup as bs"
   ]
  },
  {
   "cell_type": "code",
   "execution_count": 51,
   "id": "a3bd9e9a",
   "metadata": {},
   "outputs": [],
   "source": [
    "base_url=\"https://www.consumeraffairs.com/food/dominos.html\""
   ]
  },
  {
   "cell_type": "code",
   "execution_count": 52,
   "id": "52539f44",
   "metadata": {},
   "outputs": [],
   "source": [
    "all_pages_reviews=[]\n",
    "def scraper():\n",
    "    for i in range(1,6):\n",
    "        pagewise_reviews=[]\n",
    "        query_parameter = \"?page=\"+str(i)\n",
    "        url=base_url+query_parameter\n",
    "        response=requests.get(url)\n",
    "        soup=bs(response.content,'html.parser')\n",
    "        rev_div=soup.findAll(\"div\",attrs={\"class\",\"rvw-bd\"})\n",
    "        \n",
    "    for j in range(len(rev_div)):\n",
    "        pagewise_reviews.append(rev_div[j].find(\"p\").text)\n",
    "        \n",
    "    for k in range(len(pagewise_reviews)):\n",
    "        all_pages_reviews.append(pagewise_reviews[k])\n",
    "        return all_pages_reviews"
   ]
  },
  {
   "cell_type": "code",
   "execution_count": 53,
   "id": "166eb4ea",
   "metadata": {},
   "outputs": [
    {
     "name": "stdout",
     "output_type": "stream",
     "text": [
      "                                              review\n",
      "1  Whoever changed the prices recently, I just wa...\n"
     ]
    }
   ],
   "source": [
    "reviews=scraper()\n",
    "i=range(1,len(reviews)+1)\n",
    "reviews_df=pd.DataFrame({'review':reviews},index=i)\n",
    "print(reviews_df)\n",
    "reviews_df.to_csv('reviews.txt', sep='t')"
   ]
  },
  {
   "cell_type": "code",
   "execution_count": null,
   "id": "d23b3731",
   "metadata": {},
   "outputs": [],
   "source": []
  }
 ],
 "metadata": {
  "kernelspec": {
   "display_name": "Python 3 (ipykernel)",
   "language": "python",
   "name": "python3"
  },
  "language_info": {
   "codemirror_mode": {
    "name": "ipython",
    "version": 3
   },
   "file_extension": ".py",
   "mimetype": "text/x-python",
   "name": "python",
   "nbconvert_exporter": "python",
   "pygments_lexer": "ipython3",
   "version": "3.7.16"
  }
 },
 "nbformat": 4,
 "nbformat_minor": 5
}
